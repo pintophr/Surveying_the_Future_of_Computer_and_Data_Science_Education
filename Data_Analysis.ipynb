{
  "nbformat": 4,
  "nbformat_minor": 0,
  "metadata": {
    "colab": {
      "provenance": [],
      "authorship_tag": "ABX9TyNj8ZHTxha5dfx6BwpMJ2ey",
      "include_colab_link": true
    },
    "kernelspec": {
      "name": "python3",
      "display_name": "Python 3"
    },
    "language_info": {
      "name": "python"
    }
  },
  "cells": [
    {
      "cell_type": "markdown",
      "metadata": {
        "id": "view-in-github",
        "colab_type": "text"
      },
      "source": [
        "<a href=\"https://colab.research.google.com/github/pintophr/Surveying_the_Future_of_Computer_and_Data_Science_Education/blob/main/Data_Analysis.ipynb\" target=\"_parent\"><img src=\"https://colab.research.google.com/assets/colab-badge.svg\" alt=\"Open In Colab\"/></a>"
      ]
    },
    {
      "cell_type": "markdown",
      "source": [
        "# 1. Settings\n",
        "Preparing the programming environment for data analysis."
      ],
      "metadata": {
        "id": "VNeHhNWP6He9"
      }
    },
    {
      "cell_type": "code",
      "source": [
        "# Facilities required for installation.\n",
        "!pip install pingouin\n",
        "!pip install factor_analyzer\n",
        "!pip install rpy2"
      ],
      "metadata": {
        "id": "-C_btwoq6JqV"
      },
      "execution_count": null,
      "outputs": []
    },
    {
      "cell_type": "code",
      "source": [
        "# Importing libraries.\n",
        "import pandas as pd # A powerful data manipulation and analysis tool.\n",
        "import pingouin as pg # Statistical calculation (based on pandas).\n",
        "import numpy as np # Linear algebra.\n",
        "import matplotlib.pyplot as plt # An interface for plotting graphs.\n",
        "import seaborn as sns # Data visualization (based on matplotlib).\n",
        "import io # Standard Python library for handling various types of input and output operations.\n",
        "import warnings # # Offers a way to manage warnings raised during runtime.\n",
        "import textwrap # Wrapping and formatting plain text.\n",
        "import rpy2.robjects as robjects # Allows Python to interface with the R language.\n",
        "\n",
        "\n",
        "from matplotlib.colors import ListedColormap # Custom colormap for matplotlib.\n",
        "from google.colab import files #  A module in Google Colab for handling files.\n",
        "from scipy.stats import spearmanr # Spearman's correlation.\n",
        "from factor_analyzer import FactorAnalyzer # EFA.\n",
        "from factor_analyzer.factor_analyzer import calculate_kmo # KMOs' test.\n",
        "from factor_analyzer.factor_analyzer import calculate_bartlett_sphericity # Bartletts' test.\n",
        "from rpy2.robjects.packages import importr # A function to import R packages.\n",
        "from rpy2.robjects import pandas2ri # A module to convert between pandas and R data structures.\n",
        "from rpy2.robjects.vectors import StrVector # A class for handling R's string vectors."
      ],
      "metadata": {
        "id": "Pq7s-xah6Ngd"
      },
      "execution_count": 2,
      "outputs": []
    },
    {
      "cell_type": "code",
      "source": [
        "# Load the R magic extension.\n",
        "%load_ext rpy2.ipython"
      ],
      "metadata": {
        "id": "8_3ePTGGY4rF"
      },
      "execution_count": 3,
      "outputs": []
    },
    {
      "cell_type": "code",
      "source": [
        "%%R\n",
        "\n",
        "# Package required for R's environment.\n",
        "# psych: designed for multivariate analysis and psychological research.\n",
        "# GPArotation: designed for factorial analysis.\n",
        "install.packages(c(\"psych\", \"GPArotation\"))"
      ],
      "metadata": {
        "id": "V0BpnJDwY_Kt"
      },
      "execution_count": null,
      "outputs": []
    },
    {
      "cell_type": "code",
      "source": [
        "%%R\n",
        "\n",
        "# Loading packages.\n",
        "library(psych)\n",
        "library(GPArotation)"
      ],
      "metadata": {
        "id": "gX75riw-bV7k"
      },
      "execution_count": null,
      "outputs": []
    },
    {
      "cell_type": "code",
      "source": [
        "# Filter all FutureWarnings\n",
        "warnings.filterwarnings('ignore', category=FutureWarning)"
      ],
      "metadata": {
        "id": "65Ll6G7T6aGc"
      },
      "execution_count": 6,
      "outputs": []
    },
    {
      "cell_type": "markdown",
      "source": [
        "Loading CI/UFPB students' dataset.\n"
      ],
      "metadata": {
        "id": "Df4EgKQf6dZe"
      }
    },
    {
      "cell_type": "code",
      "source": [
        "# Delete all datasets loaded.\n",
        "!rm *.csv\n",
        "\n",
        "# Loading CI/UFPB students' data\n",
        "uploaded = files.upload()\n",
        "df = pd.read_csv(io.BytesIO(uploaded['LLMs_dataset(UFPB).csv']), encoding='ISO-8859-1', delimiter=';')"
      ],
      "metadata": {
        "colab": {
          "base_uri": "https://localhost:8080/",
          "height": 90
        },
        "id": "YTnlLRJv6idu",
        "outputId": "acf70374-21f1-43b7-d0bd-7efa456c6809"
      },
      "execution_count": 7,
      "outputs": [
        {
          "output_type": "stream",
          "name": "stdout",
          "text": [
            "rm: cannot remove '*.csv': No such file or directory\n"
          ]
        },
        {
          "output_type": "display_data",
          "data": {
            "text/plain": [
              "<IPython.core.display.HTML object>"
            ],
            "text/html": [
              "\n",
              "     <input type=\"file\" id=\"files-57bb784c-c3df-4076-94f1-f297a118ae76\" name=\"files[]\" multiple disabled\n",
              "        style=\"border:none\" />\n",
              "     <output id=\"result-57bb784c-c3df-4076-94f1-f297a118ae76\">\n",
              "      Upload widget is only available when the cell has been executed in the\n",
              "      current browser session. Please rerun this cell to enable.\n",
              "      </output>\n",
              "      <script>// Copyright 2017 Google LLC\n",
              "//\n",
              "// Licensed under the Apache License, Version 2.0 (the \"License\");\n",
              "// you may not use this file except in compliance with the License.\n",
              "// You may obtain a copy of the License at\n",
              "//\n",
              "//      http://www.apache.org/licenses/LICENSE-2.0\n",
              "//\n",
              "// Unless required by applicable law or agreed to in writing, software\n",
              "// distributed under the License is distributed on an \"AS IS\" BASIS,\n",
              "// WITHOUT WARRANTIES OR CONDITIONS OF ANY KIND, either express or implied.\n",
              "// See the License for the specific language governing permissions and\n",
              "// limitations under the License.\n",
              "\n",
              "/**\n",
              " * @fileoverview Helpers for google.colab Python module.\n",
              " */\n",
              "(function(scope) {\n",
              "function span(text, styleAttributes = {}) {\n",
              "  const element = document.createElement('span');\n",
              "  element.textContent = text;\n",
              "  for (const key of Object.keys(styleAttributes)) {\n",
              "    element.style[key] = styleAttributes[key];\n",
              "  }\n",
              "  return element;\n",
              "}\n",
              "\n",
              "// Max number of bytes which will be uploaded at a time.\n",
              "const MAX_PAYLOAD_SIZE = 100 * 1024;\n",
              "\n",
              "function _uploadFiles(inputId, outputId) {\n",
              "  const steps = uploadFilesStep(inputId, outputId);\n",
              "  const outputElement = document.getElementById(outputId);\n",
              "  // Cache steps on the outputElement to make it available for the next call\n",
              "  // to uploadFilesContinue from Python.\n",
              "  outputElement.steps = steps;\n",
              "\n",
              "  return _uploadFilesContinue(outputId);\n",
              "}\n",
              "\n",
              "// This is roughly an async generator (not supported in the browser yet),\n",
              "// where there are multiple asynchronous steps and the Python side is going\n",
              "// to poll for completion of each step.\n",
              "// This uses a Promise to block the python side on completion of each step,\n",
              "// then passes the result of the previous step as the input to the next step.\n",
              "function _uploadFilesContinue(outputId) {\n",
              "  const outputElement = document.getElementById(outputId);\n",
              "  const steps = outputElement.steps;\n",
              "\n",
              "  const next = steps.next(outputElement.lastPromiseValue);\n",
              "  return Promise.resolve(next.value.promise).then((value) => {\n",
              "    // Cache the last promise value to make it available to the next\n",
              "    // step of the generator.\n",
              "    outputElement.lastPromiseValue = value;\n",
              "    return next.value.response;\n",
              "  });\n",
              "}\n",
              "\n",
              "/**\n",
              " * Generator function which is called between each async step of the upload\n",
              " * process.\n",
              " * @param {string} inputId Element ID of the input file picker element.\n",
              " * @param {string} outputId Element ID of the output display.\n",
              " * @return {!Iterable<!Object>} Iterable of next steps.\n",
              " */\n",
              "function* uploadFilesStep(inputId, outputId) {\n",
              "  const inputElement = document.getElementById(inputId);\n",
              "  inputElement.disabled = false;\n",
              "\n",
              "  const outputElement = document.getElementById(outputId);\n",
              "  outputElement.innerHTML = '';\n",
              "\n",
              "  const pickedPromise = new Promise((resolve) => {\n",
              "    inputElement.addEventListener('change', (e) => {\n",
              "      resolve(e.target.files);\n",
              "    });\n",
              "  });\n",
              "\n",
              "  const cancel = document.createElement('button');\n",
              "  inputElement.parentElement.appendChild(cancel);\n",
              "  cancel.textContent = 'Cancel upload';\n",
              "  const cancelPromise = new Promise((resolve) => {\n",
              "    cancel.onclick = () => {\n",
              "      resolve(null);\n",
              "    };\n",
              "  });\n",
              "\n",
              "  // Wait for the user to pick the files.\n",
              "  const files = yield {\n",
              "    promise: Promise.race([pickedPromise, cancelPromise]),\n",
              "    response: {\n",
              "      action: 'starting',\n",
              "    }\n",
              "  };\n",
              "\n",
              "  cancel.remove();\n",
              "\n",
              "  // Disable the input element since further picks are not allowed.\n",
              "  inputElement.disabled = true;\n",
              "\n",
              "  if (!files) {\n",
              "    return {\n",
              "      response: {\n",
              "        action: 'complete',\n",
              "      }\n",
              "    };\n",
              "  }\n",
              "\n",
              "  for (const file of files) {\n",
              "    const li = document.createElement('li');\n",
              "    li.append(span(file.name, {fontWeight: 'bold'}));\n",
              "    li.append(span(\n",
              "        `(${file.type || 'n/a'}) - ${file.size} bytes, ` +\n",
              "        `last modified: ${\n",
              "            file.lastModifiedDate ? file.lastModifiedDate.toLocaleDateString() :\n",
              "                                    'n/a'} - `));\n",
              "    const percent = span('0% done');\n",
              "    li.appendChild(percent);\n",
              "\n",
              "    outputElement.appendChild(li);\n",
              "\n",
              "    const fileDataPromise = new Promise((resolve) => {\n",
              "      const reader = new FileReader();\n",
              "      reader.onload = (e) => {\n",
              "        resolve(e.target.result);\n",
              "      };\n",
              "      reader.readAsArrayBuffer(file);\n",
              "    });\n",
              "    // Wait for the data to be ready.\n",
              "    let fileData = yield {\n",
              "      promise: fileDataPromise,\n",
              "      response: {\n",
              "        action: 'continue',\n",
              "      }\n",
              "    };\n",
              "\n",
              "    // Use a chunked sending to avoid message size limits. See b/62115660.\n",
              "    let position = 0;\n",
              "    do {\n",
              "      const length = Math.min(fileData.byteLength - position, MAX_PAYLOAD_SIZE);\n",
              "      const chunk = new Uint8Array(fileData, position, length);\n",
              "      position += length;\n",
              "\n",
              "      const base64 = btoa(String.fromCharCode.apply(null, chunk));\n",
              "      yield {\n",
              "        response: {\n",
              "          action: 'append',\n",
              "          file: file.name,\n",
              "          data: base64,\n",
              "        },\n",
              "      };\n",
              "\n",
              "      let percentDone = fileData.byteLength === 0 ?\n",
              "          100 :\n",
              "          Math.round((position / fileData.byteLength) * 100);\n",
              "      percent.textContent = `${percentDone}% done`;\n",
              "\n",
              "    } while (position < fileData.byteLength);\n",
              "  }\n",
              "\n",
              "  // All done.\n",
              "  yield {\n",
              "    response: {\n",
              "      action: 'complete',\n",
              "    }\n",
              "  };\n",
              "}\n",
              "\n",
              "scope.google = scope.google || {};\n",
              "scope.google.colab = scope.google.colab || {};\n",
              "scope.google.colab._files = {\n",
              "  _uploadFiles,\n",
              "  _uploadFilesContinue,\n",
              "};\n",
              "})(self);\n",
              "</script> "
            ]
          },
          "metadata": {}
        },
        {
          "output_type": "stream",
          "name": "stdout",
          "text": [
            "Saving LLMs_dataset(UFPB).csv to LLMs_dataset(UFPB).csv\n"
          ]
        }
      ]
    },
    {
      "cell_type": "markdown",
      "source": [
        "# 2. Descriptive Statisctics"
      ],
      "metadata": {
        "id": "NjZHdtGC6suF"
      }
    },
    {
      "cell_type": "code",
      "source": [
        "# Questionnaires' columns.\n",
        "pd.DataFrame(df.columns, columns=['Column Name'])"
      ],
      "metadata": {
        "colab": {
          "base_uri": "https://localhost:8080/",
          "height": 952
        },
        "id": "EJU2EPgw6oy1",
        "outputId": "937168ac-36fc-4f1e-cf9a-f007a8eb8314"
      },
      "execution_count": 8,
      "outputs": [
        {
          "output_type": "execute_result",
          "data": {
            "text/plain": [
              "                                          Column Name\n",
              "0   Li e compreendi que a qualquer momento posso d...\n",
              "1                                Qual é o seu gênero?\n",
              "2                                 Qual é o seu curso?\n",
              "3   Em qual categoria você se encontra, aproximada...\n",
              "4                  Qual a sua idade, aproximadamente?\n",
              "5   Qual seu nível de conhecimento sobre LLMs (Cha...\n",
              "6                            Quais LLMs você utiliza?\n",
              "7   Sinto que aprendo o que realmente me interessa...\n",
              "8   Muitas vezes, fico tão empolgado que perco a n...\n",
              "9   LLMs (ChatGPT, Bard etc.) tornam a programação...\n",
              "10  Me sinto confiante com os textos e/ou códigos ...\n",
              "11  Nunca me sinto capaz de alcançar meus objetivo...\n",
              "12  Utilizo LLMs (ChatGPT, Bard etc.) para tirar d...\n",
              "13  Para mim, aprender sobre programação é um inte...\n",
              "14  Prefiro programar sem ajuda de LLMs (ChatGPT, ...\n",
              "15  Me divirto quando aprendo e adquiro novos conh...\n",
              "16  As demandas do meu curso me deixam emocionalme...\n",
              "17  Acredito que LLMs (ChatGPT, Bard etc.) podem s...\n",
              "18        Gosto de ir em todos as aulas do meu curso.\n",
              "19  Sinto que tenho as habilidades necessárias par...\n",
              "20  Não tenho interesse em programação competitiva...\n",
              "21  Penso que LLMs (ChatGPT, Bard etc.) são muito ...\n",
              "22  Tento me envolver em atividades extracurricula...\n",
              "23   Tenho dificuldade para relaxar depois das aulas.\n",
              "24  Sinto que estou apenas memorizando informações...\n",
              "25  Me preocupo que programadores sejam substituíd...\n",
              "26  Utilizo LLMs (ChatGPT, Bard etc.) para formula...\n",
              "27           Sou pressionado pelas demandas do curso.\n",
              "28  Corrijo meus códigos utilizando LLMs (ChatGPT,...\n",
              "29  Fico esgotado quando tenho que ir à universidade.\n",
              "30  Tenho dificuldade para encontrar erros em resp...\n",
              "31  Deixo para estudar para as provas de última hora.\n",
              "32  Tenho medo que modelos de inteligência artific...\n",
              "33  Tento ir bem nas provas para agradar meus prof...\n",
              "34  Utilizo LLMs (ChatGPT, Bard etc.) para planeja...\n",
              "35  Sinto como se não pudesse acompanhar as mudanç...\n",
              "36  Sinto tremores ou inquietações no corpo, como ..."
            ],
            "text/html": [
              "\n",
              "  <div id=\"df-536022ee-c3fc-4b5a-87d0-693e5e1547eb\" class=\"colab-df-container\">\n",
              "    <div>\n",
              "<style scoped>\n",
              "    .dataframe tbody tr th:only-of-type {\n",
              "        vertical-align: middle;\n",
              "    }\n",
              "\n",
              "    .dataframe tbody tr th {\n",
              "        vertical-align: top;\n",
              "    }\n",
              "\n",
              "    .dataframe thead th {\n",
              "        text-align: right;\n",
              "    }\n",
              "</style>\n",
              "<table border=\"1\" class=\"dataframe\">\n",
              "  <thead>\n",
              "    <tr style=\"text-align: right;\">\n",
              "      <th></th>\n",
              "      <th>Column Name</th>\n",
              "    </tr>\n",
              "  </thead>\n",
              "  <tbody>\n",
              "    <tr>\n",
              "      <th>0</th>\n",
              "      <td>Li e compreendi que a qualquer momento posso d...</td>\n",
              "    </tr>\n",
              "    <tr>\n",
              "      <th>1</th>\n",
              "      <td>Qual é o seu gênero?</td>\n",
              "    </tr>\n",
              "    <tr>\n",
              "      <th>2</th>\n",
              "      <td>Qual é o seu curso?</td>\n",
              "    </tr>\n",
              "    <tr>\n",
              "      <th>3</th>\n",
              "      <td>Em qual categoria você se encontra, aproximada...</td>\n",
              "    </tr>\n",
              "    <tr>\n",
              "      <th>4</th>\n",
              "      <td>Qual a sua idade, aproximadamente?</td>\n",
              "    </tr>\n",
              "    <tr>\n",
              "      <th>5</th>\n",
              "      <td>Qual seu nível de conhecimento sobre LLMs (Cha...</td>\n",
              "    </tr>\n",
              "    <tr>\n",
              "      <th>6</th>\n",
              "      <td>Quais LLMs você utiliza?</td>\n",
              "    </tr>\n",
              "    <tr>\n",
              "      <th>7</th>\n",
              "      <td>Sinto que aprendo o que realmente me interessa...</td>\n",
              "    </tr>\n",
              "    <tr>\n",
              "      <th>8</th>\n",
              "      <td>Muitas vezes, fico tão empolgado que perco a n...</td>\n",
              "    </tr>\n",
              "    <tr>\n",
              "      <th>9</th>\n",
              "      <td>LLMs (ChatGPT, Bard etc.) tornam a programação...</td>\n",
              "    </tr>\n",
              "    <tr>\n",
              "      <th>10</th>\n",
              "      <td>Me sinto confiante com os textos e/ou códigos ...</td>\n",
              "    </tr>\n",
              "    <tr>\n",
              "      <th>11</th>\n",
              "      <td>Nunca me sinto capaz de alcançar meus objetivo...</td>\n",
              "    </tr>\n",
              "    <tr>\n",
              "      <th>12</th>\n",
              "      <td>Utilizo LLMs (ChatGPT, Bard etc.) para tirar d...</td>\n",
              "    </tr>\n",
              "    <tr>\n",
              "      <th>13</th>\n",
              "      <td>Para mim, aprender sobre programação é um inte...</td>\n",
              "    </tr>\n",
              "    <tr>\n",
              "      <th>14</th>\n",
              "      <td>Prefiro programar sem ajuda de LLMs (ChatGPT, ...</td>\n",
              "    </tr>\n",
              "    <tr>\n",
              "      <th>15</th>\n",
              "      <td>Me divirto quando aprendo e adquiro novos conh...</td>\n",
              "    </tr>\n",
              "    <tr>\n",
              "      <th>16</th>\n",
              "      <td>As demandas do meu curso me deixam emocionalme...</td>\n",
              "    </tr>\n",
              "    <tr>\n",
              "      <th>17</th>\n",
              "      <td>Acredito que LLMs (ChatGPT, Bard etc.) podem s...</td>\n",
              "    </tr>\n",
              "    <tr>\n",
              "      <th>18</th>\n",
              "      <td>Gosto de ir em todos as aulas do meu curso.</td>\n",
              "    </tr>\n",
              "    <tr>\n",
              "      <th>19</th>\n",
              "      <td>Sinto que tenho as habilidades necessárias par...</td>\n",
              "    </tr>\n",
              "    <tr>\n",
              "      <th>20</th>\n",
              "      <td>Não tenho interesse em programação competitiva...</td>\n",
              "    </tr>\n",
              "    <tr>\n",
              "      <th>21</th>\n",
              "      <td>Penso que LLMs (ChatGPT, Bard etc.) são muito ...</td>\n",
              "    </tr>\n",
              "    <tr>\n",
              "      <th>22</th>\n",
              "      <td>Tento me envolver em atividades extracurricula...</td>\n",
              "    </tr>\n",
              "    <tr>\n",
              "      <th>23</th>\n",
              "      <td>Tenho dificuldade para relaxar depois das aulas.</td>\n",
              "    </tr>\n",
              "    <tr>\n",
              "      <th>24</th>\n",
              "      <td>Sinto que estou apenas memorizando informações...</td>\n",
              "    </tr>\n",
              "    <tr>\n",
              "      <th>25</th>\n",
              "      <td>Me preocupo que programadores sejam substituíd...</td>\n",
              "    </tr>\n",
              "    <tr>\n",
              "      <th>26</th>\n",
              "      <td>Utilizo LLMs (ChatGPT, Bard etc.) para formula...</td>\n",
              "    </tr>\n",
              "    <tr>\n",
              "      <th>27</th>\n",
              "      <td>Sou pressionado pelas demandas do curso.</td>\n",
              "    </tr>\n",
              "    <tr>\n",
              "      <th>28</th>\n",
              "      <td>Corrijo meus códigos utilizando LLMs (ChatGPT,...</td>\n",
              "    </tr>\n",
              "    <tr>\n",
              "      <th>29</th>\n",
              "      <td>Fico esgotado quando tenho que ir à universidade.</td>\n",
              "    </tr>\n",
              "    <tr>\n",
              "      <th>30</th>\n",
              "      <td>Tenho dificuldade para encontrar erros em resp...</td>\n",
              "    </tr>\n",
              "    <tr>\n",
              "      <th>31</th>\n",
              "      <td>Deixo para estudar para as provas de última hora.</td>\n",
              "    </tr>\n",
              "    <tr>\n",
              "      <th>32</th>\n",
              "      <td>Tenho medo que modelos de inteligência artific...</td>\n",
              "    </tr>\n",
              "    <tr>\n",
              "      <th>33</th>\n",
              "      <td>Tento ir bem nas provas para agradar meus prof...</td>\n",
              "    </tr>\n",
              "    <tr>\n",
              "      <th>34</th>\n",
              "      <td>Utilizo LLMs (ChatGPT, Bard etc.) para planeja...</td>\n",
              "    </tr>\n",
              "    <tr>\n",
              "      <th>35</th>\n",
              "      <td>Sinto como se não pudesse acompanhar as mudanç...</td>\n",
              "    </tr>\n",
              "    <tr>\n",
              "      <th>36</th>\n",
              "      <td>Sinto tremores ou inquietações no corpo, como ...</td>\n",
              "    </tr>\n",
              "  </tbody>\n",
              "</table>\n",
              "</div>\n",
              "    <div class=\"colab-df-buttons\">\n",
              "\n",
              "  <div class=\"colab-df-container\">\n",
              "    <button class=\"colab-df-convert\" onclick=\"convertToInteractive('df-536022ee-c3fc-4b5a-87d0-693e5e1547eb')\"\n",
              "            title=\"Convert this dataframe to an interactive table.\"\n",
              "            style=\"display:none;\">\n",
              "\n",
              "  <svg xmlns=\"http://www.w3.org/2000/svg\" height=\"24px\" viewBox=\"0 -960 960 960\">\n",
              "    <path d=\"M120-120v-720h720v720H120Zm60-500h600v-160H180v160Zm220 220h160v-160H400v160Zm0 220h160v-160H400v160ZM180-400h160v-160H180v160Zm440 0h160v-160H620v160ZM180-180h160v-160H180v160Zm440 0h160v-160H620v160Z\"/>\n",
              "  </svg>\n",
              "    </button>\n",
              "\n",
              "  <style>\n",
              "    .colab-df-container {\n",
              "      display:flex;\n",
              "      gap: 12px;\n",
              "    }\n",
              "\n",
              "    .colab-df-convert {\n",
              "      background-color: #E8F0FE;\n",
              "      border: none;\n",
              "      border-radius: 50%;\n",
              "      cursor: pointer;\n",
              "      display: none;\n",
              "      fill: #1967D2;\n",
              "      height: 32px;\n",
              "      padding: 0 0 0 0;\n",
              "      width: 32px;\n",
              "    }\n",
              "\n",
              "    .colab-df-convert:hover {\n",
              "      background-color: #E2EBFA;\n",
              "      box-shadow: 0px 1px 2px rgba(60, 64, 67, 0.3), 0px 1px 3px 1px rgba(60, 64, 67, 0.15);\n",
              "      fill: #174EA6;\n",
              "    }\n",
              "\n",
              "    .colab-df-buttons div {\n",
              "      margin-bottom: 4px;\n",
              "    }\n",
              "\n",
              "    [theme=dark] .colab-df-convert {\n",
              "      background-color: #3B4455;\n",
              "      fill: #D2E3FC;\n",
              "    }\n",
              "\n",
              "    [theme=dark] .colab-df-convert:hover {\n",
              "      background-color: #434B5C;\n",
              "      box-shadow: 0px 1px 3px 1px rgba(0, 0, 0, 0.15);\n",
              "      filter: drop-shadow(0px 1px 2px rgba(0, 0, 0, 0.3));\n",
              "      fill: #FFFFFF;\n",
              "    }\n",
              "  </style>\n",
              "\n",
              "    <script>\n",
              "      const buttonEl =\n",
              "        document.querySelector('#df-536022ee-c3fc-4b5a-87d0-693e5e1547eb button.colab-df-convert');\n",
              "      buttonEl.style.display =\n",
              "        google.colab.kernel.accessAllowed ? 'block' : 'none';\n",
              "\n",
              "      async function convertToInteractive(key) {\n",
              "        const element = document.querySelector('#df-536022ee-c3fc-4b5a-87d0-693e5e1547eb');\n",
              "        const dataTable =\n",
              "          await google.colab.kernel.invokeFunction('convertToInteractive',\n",
              "                                                    [key], {});\n",
              "        if (!dataTable) return;\n",
              "\n",
              "        const docLinkHtml = 'Like what you see? Visit the ' +\n",
              "          '<a target=\"_blank\" href=https://colab.research.google.com/notebooks/data_table.ipynb>data table notebook</a>'\n",
              "          + ' to learn more about interactive tables.';\n",
              "        element.innerHTML = '';\n",
              "        dataTable['output_type'] = 'display_data';\n",
              "        await google.colab.output.renderOutput(dataTable, element);\n",
              "        const docLink = document.createElement('div');\n",
              "        docLink.innerHTML = docLinkHtml;\n",
              "        element.appendChild(docLink);\n",
              "      }\n",
              "    </script>\n",
              "  </div>\n",
              "\n",
              "\n",
              "<div id=\"df-e3f742af-e65b-43c2-8121-86ebde4c00ef\">\n",
              "  <button class=\"colab-df-quickchart\" onclick=\"quickchart('df-e3f742af-e65b-43c2-8121-86ebde4c00ef')\"\n",
              "            title=\"Suggest charts\"\n",
              "            style=\"display:none;\">\n",
              "\n",
              "<svg xmlns=\"http://www.w3.org/2000/svg\" height=\"24px\"viewBox=\"0 0 24 24\"\n",
              "     width=\"24px\">\n",
              "    <g>\n",
              "        <path d=\"M19 3H5c-1.1 0-2 .9-2 2v14c0 1.1.9 2 2 2h14c1.1 0 2-.9 2-2V5c0-1.1-.9-2-2-2zM9 17H7v-7h2v7zm4 0h-2V7h2v10zm4 0h-2v-4h2v4z\"/>\n",
              "    </g>\n",
              "</svg>\n",
              "  </button>\n",
              "\n",
              "<style>\n",
              "  .colab-df-quickchart {\n",
              "      --bg-color: #E8F0FE;\n",
              "      --fill-color: #1967D2;\n",
              "      --hover-bg-color: #E2EBFA;\n",
              "      --hover-fill-color: #174EA6;\n",
              "      --disabled-fill-color: #AAA;\n",
              "      --disabled-bg-color: #DDD;\n",
              "  }\n",
              "\n",
              "  [theme=dark] .colab-df-quickchart {\n",
              "      --bg-color: #3B4455;\n",
              "      --fill-color: #D2E3FC;\n",
              "      --hover-bg-color: #434B5C;\n",
              "      --hover-fill-color: #FFFFFF;\n",
              "      --disabled-bg-color: #3B4455;\n",
              "      --disabled-fill-color: #666;\n",
              "  }\n",
              "\n",
              "  .colab-df-quickchart {\n",
              "    background-color: var(--bg-color);\n",
              "    border: none;\n",
              "    border-radius: 50%;\n",
              "    cursor: pointer;\n",
              "    display: none;\n",
              "    fill: var(--fill-color);\n",
              "    height: 32px;\n",
              "    padding: 0;\n",
              "    width: 32px;\n",
              "  }\n",
              "\n",
              "  .colab-df-quickchart:hover {\n",
              "    background-color: var(--hover-bg-color);\n",
              "    box-shadow: 0 1px 2px rgba(60, 64, 67, 0.3), 0 1px 3px 1px rgba(60, 64, 67, 0.15);\n",
              "    fill: var(--button-hover-fill-color);\n",
              "  }\n",
              "\n",
              "  .colab-df-quickchart-complete:disabled,\n",
              "  .colab-df-quickchart-complete:disabled:hover {\n",
              "    background-color: var(--disabled-bg-color);\n",
              "    fill: var(--disabled-fill-color);\n",
              "    box-shadow: none;\n",
              "  }\n",
              "\n",
              "  .colab-df-spinner {\n",
              "    border: 2px solid var(--fill-color);\n",
              "    border-color: transparent;\n",
              "    border-bottom-color: var(--fill-color);\n",
              "    animation:\n",
              "      spin 1s steps(1) infinite;\n",
              "  }\n",
              "\n",
              "  @keyframes spin {\n",
              "    0% {\n",
              "      border-color: transparent;\n",
              "      border-bottom-color: var(--fill-color);\n",
              "      border-left-color: var(--fill-color);\n",
              "    }\n",
              "    20% {\n",
              "      border-color: transparent;\n",
              "      border-left-color: var(--fill-color);\n",
              "      border-top-color: var(--fill-color);\n",
              "    }\n",
              "    30% {\n",
              "      border-color: transparent;\n",
              "      border-left-color: var(--fill-color);\n",
              "      border-top-color: var(--fill-color);\n",
              "      border-right-color: var(--fill-color);\n",
              "    }\n",
              "    40% {\n",
              "      border-color: transparent;\n",
              "      border-right-color: var(--fill-color);\n",
              "      border-top-color: var(--fill-color);\n",
              "    }\n",
              "    60% {\n",
              "      border-color: transparent;\n",
              "      border-right-color: var(--fill-color);\n",
              "    }\n",
              "    80% {\n",
              "      border-color: transparent;\n",
              "      border-right-color: var(--fill-color);\n",
              "      border-bottom-color: var(--fill-color);\n",
              "    }\n",
              "    90% {\n",
              "      border-color: transparent;\n",
              "      border-bottom-color: var(--fill-color);\n",
              "    }\n",
              "  }\n",
              "</style>\n",
              "\n",
              "  <script>\n",
              "    async function quickchart(key) {\n",
              "      const quickchartButtonEl =\n",
              "        document.querySelector('#' + key + ' button');\n",
              "      quickchartButtonEl.disabled = true;  // To prevent multiple clicks.\n",
              "      quickchartButtonEl.classList.add('colab-df-spinner');\n",
              "      try {\n",
              "        const charts = await google.colab.kernel.invokeFunction(\n",
              "            'suggestCharts', [key], {});\n",
              "      } catch (error) {\n",
              "        console.error('Error during call to suggestCharts:', error);\n",
              "      }\n",
              "      quickchartButtonEl.classList.remove('colab-df-spinner');\n",
              "      quickchartButtonEl.classList.add('colab-df-quickchart-complete');\n",
              "    }\n",
              "    (() => {\n",
              "      let quickchartButtonEl =\n",
              "        document.querySelector('#df-e3f742af-e65b-43c2-8121-86ebde4c00ef button');\n",
              "      quickchartButtonEl.style.display =\n",
              "        google.colab.kernel.accessAllowed ? 'block' : 'none';\n",
              "    })();\n",
              "  </script>\n",
              "</div>\n",
              "\n",
              "    </div>\n",
              "  </div>\n"
            ],
            "application/vnd.google.colaboratory.intrinsic+json": {
              "type": "dataframe",
              "summary": "{\n  \"name\": \"pd\",\n  \"rows\": 37,\n  \"fields\": [\n    {\n      \"column\": \"Column Name\",\n      \"properties\": {\n        \"dtype\": \"string\",\n        \"num_unique_values\": 37,\n        \"samples\": [\n          \"Acredito que LLMs (ChatGPT, Bard etc.) podem ser melhor exploradas pelos professores nas aulas, atividades e/ou provas.\",\n          \"Para mim, aprender sobre programa\\u00e7\\u00e3o \\u00e9 um interesse pessoal.\",\n          \"Qual a sua idade, aproximadamente?\"\n        ],\n        \"semantic_type\": \"\",\n        \"description\": \"\"\n      }\n    }\n  ]\n}"
            }
          },
          "metadata": {},
          "execution_count": 8
        }
      ]
    },
    {
      "cell_type": "code",
      "source": [
        "# Checking for missing values.\n",
        "valores_nulos = df.isnull().sum().sum()\n",
        "print(f'NaNs: {valores_nulos}')"
      ],
      "metadata": {
        "colab": {
          "base_uri": "https://localhost:8080/"
        },
        "id": "EOT2eorw6yI9",
        "outputId": "893ca935-175a-43b2-bacf-38945c7738f4"
      },
      "execution_count": 9,
      "outputs": [
        {
          "output_type": "stream",
          "name": "stdout",
          "text": [
            "NaNs: 0\n"
          ]
        }
      ]
    },
    {
      "cell_type": "markdown",
      "source": [
        "Creating a chart to visualize the gender frequencies."
      ],
      "metadata": {
        "id": "KHLVgEEA7zi2"
      }
    },
    {
      "cell_type": "code",
      "source": [
        "gender_counts = df[\"Qual é o seu gênero?\"].value_counts()\n",
        "\n",
        "# Function to display percentage and count on pie chart.\n",
        "def func(pct, allvals):\n",
        "    absolute = round(pct/100.*np.sum(allvals))\n",
        "    return \"{:.1f}%\\n({:d})\".format(pct, absolute)\n",
        "\n",
        "# Gender Chart.\n",
        "fig, ax = plt.subplots(figsize=(6, 5)) # Adjusting figure size to better fit a single chart\n",
        "colors_gender = plt.cm.Pastel2(np.linspace(0, 1, len(gender_counts)))\n",
        "gender_counts.plot(kind='pie', ax=ax, colors=colors_gender, autopct=lambda pct: func(pct, gender_counts), startangle=140, wedgeprops=dict(width=0.3))\n",
        "ax.set_title('Gênero')\n",
        "ax.set_ylabel('')  # Removing y-axis label to clean up the chart\n",
        "\n",
        "plt.tight_layout()\n",
        "plt.show()\n"
      ],
      "metadata": {
        "id": "tv2OvdThVLni",
        "outputId": "cf44c370-4446-46ee-b497-a7bb1f741e3c",
        "colab": {
          "base_uri": "https://localhost:8080/",
          "height": 507
        }
      },
      "execution_count": 10,
      "outputs": [
        {
          "output_type": "display_data",
          "data": {
            "text/plain": [
              "<Figure size 600x500 with 1 Axes>"
            ],
            "image/png": "[encoded data removed]"
          },
          "metadata": {}
        }
      ]
    },
    {
      "cell_type": "markdown",
      "source": [
        "Cheking how the data are scored."
      ],
      "metadata": {
        "id": "6SP8ny1b-lU2"
      }
    },
    {
      "cell_type": "code",
      "source": [
        "# Finding the maximum and minimum value in a sample.\n",
        "minimum_value = df['Utilizo LLMs (ChatGPT, Bard etc.) para tirar dúvidas e preencher lacunas no meu conhecimento sobre programação.'].min()\n",
        "maximum_value = df['Utilizo LLMs (ChatGPT, Bard etc.) para tirar dúvidas e preencher lacunas no meu conhecimento sobre programação.'].max()\n",
        "\n",
        "# Displaying the values found.\n",
        "print(\"minimum_value:\", minimum_value)\n",
        "print(\"maximum value:\", maximum_value)"
      ],
      "metadata": {
        "colab": {
          "base_uri": "https://localhost:8080/"
        },
        "id": "pUk1UyEy7Lf3",
        "outputId": "5c6b638b-75f0-49ec-c68a-22690b60a643"
      },
      "execution_count": 11,
      "outputs": [
        {
          "output_type": "stream",
          "name": "stdout",
          "text": [
            "minimum_value: 0\n",
            "maximum value: 6\n"
          ]
        }
      ]
    },
    {
      "cell_type": "markdown",
      "source": [
        "# 3. Exploartory Factorial Analysis (EFA)"
      ],
      "metadata": {
        "id": "Rx0IsRS1Xab3"
      }
    },
    {
      "cell_type": "markdown",
      "source": [
        "## 3.1 Dataframe's configuration"
      ],
      "metadata": {
        "id": "RA4eaH6BeKs0"
      }
    },
    {
      "cell_type": "markdown",
      "source": [
        "Adjusting Linkert Scales from 0-6 to 1-7."
      ],
      "metadata": {
        "id": "1oRX5lSX7LxW"
      }
    },
    {
      "cell_type": "code",
      "source": [
        "# It is better to have a true midpoint on the scales for performing data analysis.On dataset, all scales are rated from 0 to 6. So the convertion is needed.\n",
        "# List of columns (items) you want to adjust.\n",
        "itens = [\n",
        "    'Qual seu nível de conhecimento sobre LLMs (ChatGPT, Bard etc.)?',\n",
        "    'Sinto que aprendo o que realmente me interessa no meu curso.',\n",
        "    'Muitas vezes, fico tão empolgado que perco a noção do tempo quando estou envolvido em um projeto ou atividade acadêmica.',\n",
        "    'LLMs (ChatGPT, Bard etc.) tornam a programação mais democrática e acessível para as pessoas.',\n",
        "    'Me sinto confiante com os textos e/ou códigos gerados por LLMs (ChatGPT, Bard etc.).',\n",
        "    'Nunca me sinto capaz de alcançar meus objetivos acadêmicos.',\n",
        "    'Utilizo LLMs (ChatGPT, Bard etc.) para tirar dúvidas e preencher lacunas no meu conhecimento sobre programação.',\n",
        "    'Para mim, aprender sobre programação é um interesse pessoal.',\n",
        "    'Prefiro programar sem ajuda de LLMs (ChatGPT, Bard etc.).',\n",
        "    'Me divirto quando aprendo e adquiro novos conhecimentos sobre tecnologia.',\n",
        "    'As demandas do meu curso me deixam emocionalmente cansado(a).',\n",
        "    'Acredito que LLMs (ChatGPT, Bard etc.) podem ser melhor exploradas pelos professores nas aulas, atividades e/ou provas.',\n",
        "    'Gosto de ir em todos as aulas do meu curso.',\n",
        "    'Sinto que tenho as habilidades necessárias para ir bem em provas de programação.',\n",
        "    'Não tenho interesse em programação competitiva (ICPC, CodeJam etc.).',\n",
        "    'Penso que LLMs (ChatGPT, Bard etc.) são muito eficientes em programação.',\n",
        "    'Tento me envolver em atividades extracurriculares do curso para me destacar.',\n",
        "    'Tenho dificuldade para relaxar depois das aulas.',\n",
        "    'Sinto que estou apenas memorizando informações em vez de realmente entender os conteúdos.',\n",
        "    'Me preocupo que programadores sejam substituídos pelos modelos de inteligência artificial.',\n",
        "    'Utilizo LLMs (ChatGPT, Bard etc.) para formular e resolver atividades de programação.',\n",
        "    'Sou pressionado pelas demandas do curso.',\n",
        "    'Corrijo meus códigos utilizando LLMs (ChatGPT, Bard etc.).',\n",
        "    'Fico esgotado quando tenho que ir à universidade.',\n",
        "    'Tenho dificuldade para encontrar erros em respostas e códigos gerados por LLMs (ChatGPT, Bard etc.).',\n",
        "    'Deixo para estudar para as provas de última hora.',\n",
        "    'Tenho medo que modelos de inteligência artificial tornem conteúdos que aprendi na faculdade obsoletos.',\n",
        "    'Tento ir bem nas provas para agradar meus professores.',\n",
        "    'Utilizo LLMs (ChatGPT, Bard etc.) para planejar meus estudos em programação.',\n",
        "    'Sinto como se não pudesse acompanhar as mudanças causadas pelos modelos de inteligência artificial.',\n",
        "    'Sinto tremores ou inquietações no corpo, como nas mãos ou nas pernas.'\n",
        "]\n",
        "\n",
        "# Add 1 to each item.\n",
        "for item in itens:\n",
        "    df[item] = df[item] + 1\n",
        "\n",
        "# Finding the maximum and minimum value in a sample again.\n",
        "minimum_value = df['Utilizo LLMs (ChatGPT, Bard etc.) para tirar dúvidas e preencher lacunas no meu conhecimento sobre programação.'].min()\n",
        "maximum_value = df['Utilizo LLMs (ChatGPT, Bard etc.) para tirar dúvidas e preencher lacunas no meu conhecimento sobre programação.'].max()\n",
        "\n",
        "# Displaying the values found.\n",
        "print(\"minimum_value:\", minimum_value)\n",
        "print(\"maximum value:\", maximum_value)"
      ],
      "metadata": {
        "colab": {
          "base_uri": "https://localhost:8080/"
        },
        "id": "B2RFTWiz7TAe",
        "outputId": "c6b4f55e-c9ce-4d05-f6a7-5543dce46ee1"
      },
      "execution_count": 12,
      "outputs": [
        {
          "output_type": "stream",
          "name": "stdout",
          "text": [
            "minimum_value: 1\n",
            "maximum value: 7\n"
          ]
        }
      ]
    },
    {
      "cell_type": "markdown",
      "source": [
        "Preparing the instruments' dataframes with respective items."
      ],
      "metadata": {
        "id": "_a6QtL0C8dg9"
      }
    },
    {
      "cell_type": "code",
      "source": [
        "# Dictionary containing descriptions for the scales.\n",
        "nomes_descritivos = {\n",
        "    'scale_disfunctional_strategies': 'DLS/LLMs-3\\n',\n",
        "    'scale_metacognitive_strategies': 'MLS/LLMs-3\\n',\n",
        "}\n",
        "\n",
        "# Dictionary containing the number of items in each scale.\n",
        "num_items = {\n",
        "    \"scale_disfunctional_strategies\": 3,\n",
        "    \"scale_metacognitive_strategies\": 3\n",
        "}\n",
        "\n",
        "# Let’s group the items of the scales in separate dataframes.\n",
        "# Dividing items (columns) into lists that correspond to psychometric scales.\n",
        "scale_metacognitive_strategies = ['Utilizo LLMs (ChatGPT, Bard etc.) para tirar dúvidas e preencher lacunas no meu conhecimento sobre programação.', 'Utilizo LLMs (ChatGPT, Bard etc.) para formular e resolver atividades de programação.',   'Corrijo meus códigos utilizando LLMs (ChatGPT, Bard etc.).']\n",
        "scale_disfunctional_strategies = ['Deixo para estudar para as provas de última hora.', 'Tenho dificuldade para encontrar erros em respostas e códigos gerados por LLMs (ChatGPT, Bard etc.).', 'Sinto que estou apenas memorizando informações em vez de realmente entender os conteúdos.']\n",
        "scale_learning_strategies =['Utilizo LLMs (ChatGPT, Bard etc.) para tirar dúvidas e preencher lacunas no meu conhecimento sobre programação.', 'Utilizo LLMs (ChatGPT, Bard etc.) para formular e resolver atividades de programação.',   'Corrijo meus códigos utilizando LLMs (ChatGPT, Bard etc.).', 'Deixo para estudar para as provas de última hora.', 'Tenho dificuldade para encontrar erros em respostas e códigos gerados por LLMs (ChatGPT, Bard etc.).', 'Sinto que estou apenas memorizando informações em vez de realmente entender os conteúdos.']\n",
        "\n",
        "# Creating the dataframes of the psychometric scales.\n",
        "df_scale_metacognitive_strategies = df[scale_metacognitive_strategies]\n",
        "df_scale_disfunctional_strategies = df[scale_disfunctional_strategies]\n",
        "df_scale_learning_strategies = df[scale_learning_strategies]"
      ],
      "metadata": {
        "id": "uThOluMW8Rll"
      },
      "execution_count": 13,
      "outputs": []
    },
    {
      "cell_type": "code",
      "source": [
        "# Loading scales dataframes to Rs' enviroment.\n",
        "\n",
        "%R -i df_scale_learning_strategies"
      ],
      "metadata": {
        "id": "L7izPfwfaRP1"
      },
      "execution_count": 14,
      "outputs": []
    },
    {
      "cell_type": "markdown",
      "source": [
        "Creating a dataframe for the somatory of the scales."
      ],
      "metadata": {
        "id": "DPg8G0sn8x6t"
      }
    },
    {
      "cell_type": "code",
      "source": [
        "# List with the names of the scales.\n",
        "scales_names = ['scale_disfunctional_strategies', 'scale_metacognitive_strategies']\n",
        "\n",
        "# Sum of the scales.\n",
        "for scale in scales_names:\n",
        "    df['Sum_' + scale] = globals()[f'df_{scale}'].sum(axis=1)"
      ],
      "metadata": {
        "id": "Q6IlwiYH8sz-"
      },
      "execution_count": 15,
      "outputs": []
    },
    {
      "cell_type": "markdown",
      "source": [
        "## 3.2 Samples Adequacy for Structural Detection\n"
      ],
      "metadata": {
        "id": "ku6eDGAlkIn7"
      }
    },
    {
      "cell_type": "code",
      "source": [
        "# Setting data.\n",
        "data = df_scale_learning_strategies\n",
        "\n",
        "# Extracting factors using the Principal Axis Factoring (PAF) method.\n",
        "fa = FactorAnalyzer(n_factors=1, method='principal')\n",
        "fa.fit(data)\n",
        "\n",
        "# Loadings.\n",
        "loadings = abs(fa.loadings_)\n",
        "loadings_df = pd.DataFrame(loadings, columns=[f'Factor {i+1}' for i in range(loadings.shape[1])])\n",
        "\n",
        "# Perform KMO test.\n",
        "kmo_all, kmo_model = calculate_kmo(data)\n",
        "print(f\"KMO Test: {kmo_model:.3f}\")\n",
        "\n",
        "# Perform Bartlett's test of sphericity.\n",
        "chi_square_value, p_value = calculate_bartlett_sphericity(data)\n",
        "print(f\"Bartlett's Test of Sphericity: chi-square={chi_square_value:.3f}, p-value={p_value:.3g}\")\n",
        "\n",
        "# Getting the eigenvalues based on Kaiser criterion.\n",
        "eigen_values, vectors = fa.get_eigenvalues()\n",
        "\n",
        "# Create Elbow Chart.\n",
        "plt.scatter(range(1,data.shape[1]+1), eigen_values)\n",
        "plt.plot(range(1, data.shape[1]+1), eigen_values)\n",
        "\n",
        "# Add the cut line.\n",
        "plt.axhline(y=1, color='r', linestyle='--', label='Cut-off line (eigenvalue=1)')\n",
        "plt.legend()\n",
        "\n",
        "plt.title('Elbow Chart')\n",
        "plt.xlabel('Number of factors')\n",
        "plt.ylabel('Eigenvalues')\n",
        "plt.grid(True)\n",
        "plt.show()"
      ],
      "metadata": {
        "colab": {
          "base_uri": "https://localhost:8080/",
          "height": 541
        },
        "id": "kRghth6GkO7I",
        "outputId": "9ddccc78-54d3-4058-8172-d94e801b1f82"
      },
      "execution_count": 16,
      "outputs": [
        {
          "output_type": "stream",
          "name": "stderr",
          "text": [
            "/usr/local/lib/python3.10/dist-packages/factor_analyzer/factor_analyzer.py:663: UserWarning: No rotation will be performed when the number of factors equals 1.\n",
            "  warnings.warn(\n"
          ]
        },
        {
          "output_type": "stream",
          "name": "stdout",
          "text": [
            "KMO Test: 0.682\n",
            "Bartlett's Test of Sphericity: chi-square=219.646, p-value=2.1e-38\n"
          ]
        },
        {
          "output_type": "display_data",
          "data": {
            "text/plain": [
              "<Figure size 640x480 with 1 Axes>"
            ],
            "image/png": "[encoded data removed]"
          },
          "metadata": {}
        }
      ]
    },
    {
      "cell_type": "markdown",
      "source": [
        "## 3.3 Internal Reliability Assessment"
      ],
      "metadata": {
        "id": "tE3Dnk-5Kz_b"
      }
    },
    {
      "cell_type": "code",
      "source": [
        "%%R\n",
        "\n",
        "# Using the 'omega' function from the 'psych' package.\n",
        "# The same result was obtained for different 'option' settings.\n",
        "cat(\"Total Omega: \", omega_results$omega.tot, \"\\n\")\n",
        "cat(\"Cronbach's Alpha: \", omega_results$alpha, \"\\n\")"
      ],
      "metadata": {
        "colab": {
          "base_uri": "https://localhost:8080/"
        },
        "id": "FBi8uRR-vKVt",
        "outputId": "8b6bc815-7732-446e-da4b-84b1a422715a"
      },
      "execution_count": 19,
      "outputs": [
        {
          "output_type": "stream",
          "name": "stdout",
          "text": [
            "Total Omega:  0.7391163 \n",
            "Cronbach's Alpha:  0.6406201 \n"
          ]
        }
      ]
    },
    {
      "cell_type": "markdown",
      "source": [
        "## 3.4 Loadings (PAF)"
      ],
      "metadata": {
        "id": "e8XQyKnWKoXF"
      }
    },
    {
      "cell_type": "code",
      "source": [
        "# Setting the number of factors based on parallel analysis.\n",
        "n_factors = 2\n",
        "data = df_scale_learning_strategies\n",
        "\n",
        "fa = FactorAnalyzer(n_factors=n_factors, rotation='promax', method='principal')\n",
        "fa.fit(data)\n",
        "loadings = abs(fa.loadings_)\n",
        "\n",
        "# Variance explained by each factor.\n",
        "variance, proportional_variance, cumulative_variance = fa.get_factor_variance()\n",
        "print(\"Variance Explained by each factor:\\n\", variance)\n",
        "print(\"Proportional Variance Explained by each factor:\\n\", proportional_variance)\n",
        "print(\"Cumulative Variance Explained by each factor:\\n\", cumulative_variance)\n",
        "\n",
        "# Creating a heatmap of the loadings of the items with labels and adjusted cell height.\n",
        "item_names = data.columns\n",
        "plt.figure(figsize=(8, 4))\n",
        "sns.heatmap(loadings, annot=True, cmap='Blues', linewidths=0.5,\n",
        "            yticklabels=[textwrap.fill(item, 50) for item in item_names],\n",
        "            xticklabels=[f'Fator {i+1}' for i in range(n_factors)], cbar=False)\n",
        "plt.title('LLMs Metacognitive Learning Strategies (MLS/LLMs-3)')\n",
        "plt.xlabel('Factors')\n",
        "plt.show()"
      ],
      "metadata": {
        "colab": {
          "base_uri": "https://localhost:8080/",
          "height": 514
        },
        "id": "i_BIDI_q-wpM",
        "outputId": "2e92d603-09cb-435f-d763-36977d8e18fa"
      },
      "execution_count": 20,
      "outputs": [
        {
          "output_type": "stream",
          "name": "stdout",
          "text": [
            "Variance Explained by each factor:\n",
            " [2.16462011 1.54688   ]\n",
            "Proportional Variance Explained by each factor:\n",
            " [0.36077002 0.25781333]\n",
            "Cumulative Variance Explained by each factor:\n",
            " [0.36077002 0.61858335]\n"
          ]
        },
        {
          "output_type": "display_data",
          "data": {
            "text/plain": [
              "<Figure size 800x400 with 1 Axes>"
            ],
            "image/png": "[encoded data removed]"
          },
          "metadata": {}
        }
      ]
    },
    {
      "cell_type": "markdown",
      "source": [
        "# 4. Spearman's Correlation Test"
      ],
      "metadata": {
        "id": "92YuSec99K74"
      }
    },
    {
      "cell_type": "markdown",
      "source": [
        "## 4.1 Gender x LSS/LLMs-6"
      ],
      "metadata": {
        "id": "2rEoV0Hi9XQu"
      }
    },
    {
      "cell_type": "code",
      "source": [
        "# Encoding the gender column\n",
        "gender_map = {'Masculino.': 1, 'Feminino.': 2}  # Replace with your gender categories\n",
        "df['gender_encoded'] = df['Qual é o seu gênero?'].map(gender_map)\n",
        "\n",
        "# Calculating Spearman Correlation\n",
        "for scale in scales_names:\n",
        "    correlation, p_value = spearmanr(df['Sum_' + scale], df['gender_encoded'])\n",
        "    print(f\"Spearman Correlation between Sum_{scale} and Gender: {correlation}, p-value: {p_value}\")"
      ],
      "metadata": {
        "colab": {
          "base_uri": "https://localhost:8080/"
        },
        "id": "D_yfCaO59QNn",
        "outputId": "cdbb9506-baba-4a57-f915-9e02f17d9dd6"
      },
      "execution_count": 22,
      "outputs": [
        {
          "output_type": "stream",
          "name": "stdout",
          "text": [
            "Spearman Correlation between Sum_scale_disfunctional_strategies and Gender: -0.014916712422160838, p-value: 0.8433403077526923\n",
            "Spearman Correlation between Sum_scale_metacognitive_strategies and Gender: 0.03987934881246387, p-value: 0.5971393632815666\n"
          ]
        }
      ]
    },
    {
      "cell_type": "markdown",
      "source": [
        "## 4.2 Course progress x LS/LLMs-6"
      ],
      "metadata": {
        "id": "vgOKafxZ9hDw"
      }
    },
    {
      "cell_type": "code",
      "source": [
        "# Encoding the course progress column\n",
        "grade_map = {'Estou no início do curso (até 25%).': 1, 'Estou na primeira metade do curso (entre 25 e 50%).': 2, 'Estou na segunda metade do curso (entre 50% e 75%).': 3, 'Estou no final do curso (mais de 75%).': 4}  # Replace with your gender categories\n",
        "df['grade_encoded'] = df['Em qual categoria você se encontra, aproximadamente?'].map(grade_map)\n",
        "\n",
        "# Calculating Spearman Correlation\n",
        "for scale in scales_names:\n",
        "    correlation, p_value = spearmanr(df['Sum_' + scale], df['grade_encoded'])\n",
        "    print(f\"Spearman Correlation between Sum_{scale} and course progress: {correlation}, p-value: {p_value}\")"
      ],
      "metadata": {
        "colab": {
          "base_uri": "https://localhost:8080/"
        },
        "id": "d2owHMEd_QOe",
        "outputId": "a1bb34cc-4184-41df-cb64-f3fa6ba058f4"
      },
      "execution_count": 23,
      "outputs": [
        {
          "output_type": "stream",
          "name": "stdout",
          "text": [
            "Spearman Correlation between Sum_scale_disfunctional_strategies and course progress: -0.14565653123348307, p-value: 0.05238355254015278\n",
            "Spearman Correlation between Sum_scale_metacognitive_strategies and course progress: -0.018116686134386967, p-value: 0.8103119979909422\n"
          ]
        }
      ]
    },
    {
      "cell_type": "markdown",
      "source": [
        "## 4.3 Perceived LLMs knowledge x LS/LLMs-6"
      ],
      "metadata": {
        "id": "Q1VPY9qv_Uat"
      }
    },
    {
      "cell_type": "code",
      "source": [
        "# Calculating Spearman Correlation\n",
        "for scale in scales_names:\n",
        "    correlation, p_value = spearmanr(df['Sum_' + scale], df['Qual seu nível de conhecimento sobre LLMs (ChatGPT, Bard etc.)?'])\n",
        "    print(f\"Spearman Correlation between Sum_{scale} and perceived LLMs knowledge: {correlation}, p-value: {p_value}\")"
      ],
      "metadata": {
        "colab": {
          "base_uri": "https://localhost:8080/"
        },
        "id": "3JegHnmR_PON",
        "outputId": "8d070494-360a-42b9-e4cc-7c9e92f84dbe"
      },
      "execution_count": 24,
      "outputs": [
        {
          "output_type": "stream",
          "name": "stdout",
          "text": [
            "Spearman Correlation between Sum_scale_disfunctional_strategies and perceived LLMs knowledge: -0.07301658588651759, p-value: 0.33274823579890567\n",
            "Spearman Correlation between Sum_scale_metacognitive_strategies and perceived LLMs knowledge: 0.3353036250950572, p-value: 4.759032979101414e-06\n"
          ]
        }
      ]
    },
    {
      "cell_type": "markdown",
      "source": [
        "## 4.4 Question about feeling exhausted from university x LSS/LLMs-6"
      ],
      "metadata": {
        "id": "52qjJN62_o49"
      }
    },
    {
      "cell_type": "code",
      "source": [
        "# Calculating Spearman Correlation\n",
        "for scale in scales_names:\n",
        "    correlation, p_value = spearmanr(df['Sum_' + scale], df['Fico esgotado quando tenho que ir à universidade.'])\n",
        "    print(f\"Spearman Correlation between Sum_{scale} and felling exhausted: {correlation}, p-value: {p_value}\")"
      ],
      "metadata": {
        "colab": {
          "base_uri": "https://localhost:8080/"
        },
        "id": "SwydA34n_uW9",
        "outputId": "a6cc20bc-ad72-4fda-8535-e40a927a22f1"
      },
      "execution_count": 25,
      "outputs": [
        {
          "output_type": "stream",
          "name": "stdout",
          "text": [
            "Spearman Correlation between Sum_scale_disfunctional_strategies and felling exhausted: 0.4099829290666952, p-value: 1.3223974140616672e-08\n",
            "Spearman Correlation between Sum_scale_metacognitive_strategies and felling exhausted: 0.06898574899906722, p-value: 0.3601963745677428\n"
          ]
        }
      ]
    },
    {
      "cell_type": "markdown",
      "source": [
        "## 4.5 Question about feeling unable for academic sucess x LSS/LLMs-6"
      ],
      "metadata": {
        "id": "PDOnewSW_r2N"
      }
    },
    {
      "cell_type": "code",
      "source": [
        "# Calculating Spearman Correlation\n",
        "for scale in scales_names:\n",
        "    correlation, p_value = spearmanr(df['Sum_' + scale], df['Nunca me sinto capaz de alcançar meus objetivos acadêmicos.'])\n",
        "    print(f\"Spearman Correlation between Sum_{scale} and felling unable for academic sucess: {correlation}, p-value: {p_value}\")"
      ],
      "metadata": {
        "colab": {
          "base_uri": "https://localhost:8080/"
        },
        "id": "T7Nh80O-B_jb",
        "outputId": "16e5e755-f790-4700-bed4-3024e5c9e768"
      },
      "execution_count": 26,
      "outputs": [
        {
          "output_type": "stream",
          "name": "stdout",
          "text": [
            "Spearman Correlation between Sum_scale_disfunctional_strategies and felling unable for academic sucess: 0.4439413715339733, p-value: 5.404823109269942e-10\n",
            "Spearman Correlation between Sum_scale_metacognitive_strategies and felling unable for academic sucess: 0.03889473257339146, p-value: 0.6062318681416659\n"
          ]
        }
      ]
    },
    {
      "cell_type": "markdown",
      "source": [
        "## 4.6 Question about confidence and LS/LLMs-6"
      ],
      "metadata": {
        "id": "GkodHplpbsVt"
      }
    },
    {
      "cell_type": "code",
      "source": [
        "# Calculating Spearman Correlation\n",
        "for scale in scales_names:\n",
        "    correlation, p_value = spearmanr(df['Sum_' + scale], df['Me sinto confiante com os textos e/ou códigos gerados por LLMs (ChatGPT, Bard etc.).'])\n",
        "    print(f\"Spearman Correlation between Sum_{scale} and confidence about LLMs: {correlation}, p-value: {p_value}\")"
      ],
      "metadata": {
        "colab": {
          "base_uri": "https://localhost:8080/"
        },
        "id": "2Fq6EduyEC-u",
        "outputId": "835f2437-ef61-4bde-e68d-2dd409b21d4a"
      },
      "execution_count": 27,
      "outputs": [
        {
          "output_type": "stream",
          "name": "stdout",
          "text": [
            "Spearman Correlation between Sum_scale_disfunctional_strategies and confidence about LLMs: 0.21752081682845112, p-value: 0.0035381334974008117\n",
            "Spearman Correlation between Sum_scale_metacognitive_strategies and confidence about LLMs: 0.44702420028365136, p-value: 3.971604923310372e-10\n"
          ]
        }
      ]
    }
  ]
}